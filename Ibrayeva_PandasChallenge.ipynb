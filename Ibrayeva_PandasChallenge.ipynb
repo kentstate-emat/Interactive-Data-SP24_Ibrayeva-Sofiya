{
 "cells": [
  {
   "cell_type": "markdown",
   "id": "69825b77-5483-4f10-a981-d3b05ee46633",
   "metadata": {},
   "source": [
    ">## Assignment 2: Pandas Challenge\n",
    "\n",
    ">*Sofiya Ibrayeva*\n",
    "\n",
    ">**01.30.2024**"
   ]
  },
  {
   "cell_type": "code",
   "execution_count": 40,
   "id": "8d9a0a6e-0f2e-4a58-b1d3-373dc78ee50a",
   "metadata": {},
   "outputs": [],
   "source": [
    "import pandas as pd"
   ]
  },
  {
   "cell_type": "code",
   "execution_count": 41,
   "id": "4aeb7c5a-9029-41ba-b78a-e63ac93cdf2a",
   "metadata": {},
   "outputs": [],
   "source": [
    "data1 = {'Sofiya': [95, 91, 60], 'Raad': [94,74, 84], 'Alex':[77,70, 93]}\n"
   ]
  },
  {
   "cell_type": "code",
   "execution_count": 42,
   "id": "935de2ec-a64f-4414-865f-f2b10952a2d4",
   "metadata": {},
   "outputs": [
    {
     "data": {
      "text/plain": [
       "dict"
      ]
     },
     "execution_count": 42,
     "metadata": {},
     "output_type": "execute_result"
    }
   ],
   "source": [
    "type(data1)"
   ]
  },
  {
   "cell_type": "code",
   "execution_count": 43,
   "id": "65b48124-a623-4018-8f94-9c79bcfbb299",
   "metadata": {},
   "outputs": [
    {
     "data": {
      "text/html": [
       "<div>\n",
       "<style scoped>\n",
       "    .dataframe tbody tr th:only-of-type {\n",
       "        vertical-align: middle;\n",
       "    }\n",
       "\n",
       "    .dataframe tbody tr th {\n",
       "        vertical-align: top;\n",
       "    }\n",
       "\n",
       "    .dataframe thead th {\n",
       "        text-align: right;\n",
       "    }\n",
       "</style>\n",
       "<table border=\"1\" class=\"dataframe\">\n",
       "  <thead>\n",
       "    <tr style=\"text-align: right;\">\n",
       "      <th></th>\n",
       "      <th>Sofiya</th>\n",
       "      <th>Raad</th>\n",
       "      <th>Alex</th>\n",
       "    </tr>\n",
       "  </thead>\n",
       "  <tbody>\n",
       "    <tr>\n",
       "      <th>0</th>\n",
       "      <td>95</td>\n",
       "      <td>94</td>\n",
       "      <td>77</td>\n",
       "    </tr>\n",
       "    <tr>\n",
       "      <th>1</th>\n",
       "      <td>91</td>\n",
       "      <td>74</td>\n",
       "      <td>70</td>\n",
       "    </tr>\n",
       "    <tr>\n",
       "      <th>2</th>\n",
       "      <td>60</td>\n",
       "      <td>84</td>\n",
       "      <td>93</td>\n",
       "    </tr>\n",
       "  </tbody>\n",
       "</table>\n",
       "</div>"
      ],
      "text/plain": [
       "   Sofiya  Raad  Alex\n",
       "0      95    94    77\n",
       "1      91    74    70\n",
       "2      60    84    93"
      ]
     },
     "execution_count": 43,
     "metadata": {},
     "output_type": "execute_result"
    }
   ],
   "source": [
    "df_1 = pd.DataFrame(data1)\n",
    "df_1"
   ]
  },
  {
   "cell_type": "code",
   "execution_count": 44,
   "id": "e83778e0-bba5-4e6a-8a1c-b709073ee571",
   "metadata": {},
   "outputs": [],
   "source": [
    "new_index_mapping = {0: 'class 1', 1: 'class 2', 2: 'class 3'}\n",
    "df_reindexed = df_1.rename(index=new_index_mapping)\n",
    "table_heading = \"Student Grades\"\n",
    "df_reindexed.columns.name = table_heading"
   ]
  },
  {
   "cell_type": "code",
   "execution_count": 45,
   "id": "1ae8112e-2fa5-4c82-a35b-a3d91e6f5fd1",
   "metadata": {},
   "outputs": [
    {
     "data": {
      "text/html": [
       "<div>\n",
       "<style scoped>\n",
       "    .dataframe tbody tr th:only-of-type {\n",
       "        vertical-align: middle;\n",
       "    }\n",
       "\n",
       "    .dataframe tbody tr th {\n",
       "        vertical-align: top;\n",
       "    }\n",
       "\n",
       "    .dataframe thead th {\n",
       "        text-align: right;\n",
       "    }\n",
       "</style>\n",
       "<table border=\"1\" class=\"dataframe\">\n",
       "  <thead>\n",
       "    <tr style=\"text-align: right;\">\n",
       "      <th>Student Grades</th>\n",
       "      <th>Sofiya</th>\n",
       "      <th>Raad</th>\n",
       "      <th>Alex</th>\n",
       "    </tr>\n",
       "  </thead>\n",
       "  <tbody>\n",
       "    <tr>\n",
       "      <th>class 1</th>\n",
       "      <td>95</td>\n",
       "      <td>94</td>\n",
       "      <td>77</td>\n",
       "    </tr>\n",
       "    <tr>\n",
       "      <th>class 2</th>\n",
       "      <td>91</td>\n",
       "      <td>74</td>\n",
       "      <td>70</td>\n",
       "    </tr>\n",
       "    <tr>\n",
       "      <th>class 3</th>\n",
       "      <td>60</td>\n",
       "      <td>84</td>\n",
       "      <td>93</td>\n",
       "    </tr>\n",
       "  </tbody>\n",
       "</table>\n",
       "</div>"
      ],
      "text/plain": [
       "Student Grades  Sofiya  Raad  Alex\n",
       "class 1             95    94    77\n",
       "class 2             91    74    70\n",
       "class 3             60    84    93"
      ]
     },
     "execution_count": 45,
     "metadata": {},
     "output_type": "execute_result"
    }
   ],
   "source": [
    "df=pd.DataFrame(df_reindexed)\n",
    "df"
   ]
  },
  {
   "cell_type": "code",
   "execution_count": 46,
   "id": "bc25784b-bc17-42a9-93f2-6d34504c47d4",
   "metadata": {},
   "outputs": [
    {
     "data": {
      "text/plain": [
       "3"
      ]
     },
     "execution_count": 46,
     "metadata": {},
     "output_type": "execute_result"
    }
   ],
   "source": [
    "len(df)"
   ]
  },
  {
   "cell_type": "code",
   "execution_count": 47,
   "id": "d9e2a708-4bdc-4202-8081-51d41587d297",
   "metadata": {},
   "outputs": [
    {
     "data": {
      "text/html": [
       "<div>\n",
       "<style scoped>\n",
       "    .dataframe tbody tr th:only-of-type {\n",
       "        vertical-align: middle;\n",
       "    }\n",
       "\n",
       "    .dataframe tbody tr th {\n",
       "        vertical-align: top;\n",
       "    }\n",
       "\n",
       "    .dataframe thead th {\n",
       "        text-align: right;\n",
       "    }\n",
       "</style>\n",
       "<table border=\"1\" class=\"dataframe\">\n",
       "  <thead>\n",
       "    <tr style=\"text-align: right;\">\n",
       "      <th>Student Grades</th>\n",
       "      <th>Sofiya</th>\n",
       "      <th>Raad</th>\n",
       "      <th>Alex</th>\n",
       "    </tr>\n",
       "  </thead>\n",
       "  <tbody>\n",
       "    <tr>\n",
       "      <th>class 1</th>\n",
       "      <td>95</td>\n",
       "      <td>94</td>\n",
       "      <td>77</td>\n",
       "    </tr>\n",
       "    <tr>\n",
       "      <th>class 2</th>\n",
       "      <td>91</td>\n",
       "      <td>74</td>\n",
       "      <td>70</td>\n",
       "    </tr>\n",
       "    <tr>\n",
       "      <th>class 3</th>\n",
       "      <td>60</td>\n",
       "      <td>84</td>\n",
       "      <td>93</td>\n",
       "    </tr>\n",
       "  </tbody>\n",
       "</table>\n",
       "</div>"
      ],
      "text/plain": [
       "Student Grades  Sofiya  Raad  Alex\n",
       "class 1             95    94    77\n",
       "class 2             91    74    70\n",
       "class 3             60    84    93"
      ]
     },
     "execution_count": 47,
     "metadata": {},
     "output_type": "execute_result"
    }
   ],
   "source": [
    "df.head()"
   ]
  },
  {
   "cell_type": "code",
   "execution_count": 48,
   "id": "452460f0-7061-4c15-bff1-40bd24dd709f",
   "metadata": {},
   "outputs": [
    {
     "data": {
      "text/html": [
       "<div>\n",
       "<style scoped>\n",
       "    .dataframe tbody tr th:only-of-type {\n",
       "        vertical-align: middle;\n",
       "    }\n",
       "\n",
       "    .dataframe tbody tr th {\n",
       "        vertical-align: top;\n",
       "    }\n",
       "\n",
       "    .dataframe thead th {\n",
       "        text-align: right;\n",
       "    }\n",
       "</style>\n",
       "<table border=\"1\" class=\"dataframe\">\n",
       "  <thead>\n",
       "    <tr style=\"text-align: right;\">\n",
       "      <th>Student Grades</th>\n",
       "      <th>Sofiya</th>\n",
       "      <th>Raad</th>\n",
       "      <th>Alex</th>\n",
       "    </tr>\n",
       "  </thead>\n",
       "  <tbody>\n",
       "    <tr>\n",
       "      <th>class 1</th>\n",
       "      <td>95</td>\n",
       "      <td>94</td>\n",
       "      <td>77</td>\n",
       "    </tr>\n",
       "    <tr>\n",
       "      <th>class 2</th>\n",
       "      <td>91</td>\n",
       "      <td>74</td>\n",
       "      <td>70</td>\n",
       "    </tr>\n",
       "  </tbody>\n",
       "</table>\n",
       "</div>"
      ],
      "text/plain": [
       "Student Grades  Sofiya  Raad  Alex\n",
       "class 1             95    94    77\n",
       "class 2             91    74    70"
      ]
     },
     "execution_count": 48,
     "metadata": {},
     "output_type": "execute_result"
    }
   ],
   "source": [
    "df.head(2)"
   ]
  },
  {
   "cell_type": "code",
   "execution_count": 49,
   "id": "4d36fead-900a-4b5a-8727-8c766e0119af",
   "metadata": {},
   "outputs": [
    {
     "data": {
      "text/plain": [
       "Index(['class 1', 'class 2', 'class 3'], dtype='object')"
      ]
     },
     "execution_count": 49,
     "metadata": {},
     "output_type": "execute_result"
    }
   ],
   "source": [
    "df.index"
   ]
  },
  {
   "cell_type": "code",
   "execution_count": 50,
   "id": "d6973bca-f5f9-4db9-9996-f3156d41fc1b",
   "metadata": {},
   "outputs": [
    {
     "data": {
      "text/plain": [
       "3"
      ]
     },
     "execution_count": 50,
     "metadata": {},
     "output_type": "execute_result"
    }
   ],
   "source": [
    "len(df.index)"
   ]
  },
  {
   "cell_type": "code",
   "execution_count": 51,
   "id": "b8e68388-de38-4b0b-91b0-f5c6002ac83a",
   "metadata": {},
   "outputs": [
    {
     "data": {
      "text/plain": [
       "Student Grades\n",
       "Sofiya    95\n",
       "Raad      94\n",
       "Alex      77\n",
       "Name: class 1, dtype: int64"
      ]
     },
     "execution_count": 51,
     "metadata": {},
     "output_type": "execute_result"
    }
   ],
   "source": [
    "df.iloc[0]"
   ]
  },
  {
   "cell_type": "code",
   "execution_count": 52,
   "id": "36f5540c-efaa-4f13-9bd2-2671b6d83bc5",
   "metadata": {},
   "outputs": [
    {
     "data": {
      "text/plain": [
       "class 1    95\n",
       "class 2    91\n",
       "class 3    60\n",
       "Name: Sofiya, dtype: int64"
      ]
     },
     "execution_count": 52,
     "metadata": {},
     "output_type": "execute_result"
    }
   ],
   "source": [
    "df['Sofiya']"
   ]
  },
  {
   "cell_type": "code",
   "execution_count": 53,
   "id": "634dc358-7a28-47d2-9006-8847bbe405a8",
   "metadata": {},
   "outputs": [],
   "source": [
    "df.to_csv('Ibrayeva_PandasChallenge.csv')"
   ]
  },
  {
   "cell_type": "code",
   "execution_count": 54,
   "id": "e9b6e6df-fb59-4c50-8184-3bda8d1789e1",
   "metadata": {},
   "outputs": [
    {
     "name": "stdout",
     "output_type": "stream",
     "text": [
      "Ibrayeva_PandasChallenge.csv  cces_example_data.csv\n",
      "PandasInClass_Ibrayeva.ipynb  ibrayeva_SystemsCheck.ipynb\n",
      "Untitled.ipynb                subset_cces_example_data.csv\n"
     ]
    }
   ],
   "source": [
    "ls"
   ]
  },
  {
   "cell_type": "markdown",
   "id": "7f1425f7-bc60-494e-881e-e2dfb15e39e3",
   "metadata": {},
   "source": [
    "## Why are dynamic, interactive data visualizations useful when communicating data?"
   ]
  },
  {
   "cell_type": "markdown",
   "id": "22b56ae2-4a54-468c-b677-0ec114583689",
   "metadata": {},
   "source": [
    "* The main reason why interactive data is so popular nowadays is because it increases engagement with the audience. By providing different tools, users can explore the data at their own pace. Some people are only interested in an overview point of the data, meanwhile others are looking for specific points. Dynamic interactive data provides solutions for both of these groups. \n",
    "* Moreover, representing big datasets could be difficult on a static image due to the space limitation. Interactive data visualization addresses this issue by offering tools like filtering, pop-up text blocks, and other dynamic elements that enable users to navigate and explore big amounts of data.\n",
    "* With the right design choices, interactive data sets usually have more audience attention due to its dynamic animation and storytelling. "
   ]
  }
 ],
 "metadata": {
  "kernelspec": {
   "display_name": "Python 3 (ipykernel)",
   "language": "python",
   "name": "python3"
  },
  "language_info": {
   "codemirror_mode": {
    "name": "ipython",
    "version": 3
   },
   "file_extension": ".py",
   "mimetype": "text/x-python",
   "name": "python",
   "nbconvert_exporter": "python",
   "pygments_lexer": "ipython3",
   "version": "3.11.7"
  }
 },
 "nbformat": 4,
 "nbformat_minor": 5
}
