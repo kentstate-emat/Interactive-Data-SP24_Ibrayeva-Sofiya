{
 "cells": [
  {
   "cell_type": "markdown",
   "id": "94e5ee74-f767-42af-85d6-573401967b35",
   "metadata": {},
   "source": [
    "># Tidy Challenge\n",
    "\n",
    ">## Assignment 3\n",
    "\n",
    ">*Sofiya Ibrayeva*\n",
    "\n",
    ">**02.07.2024**"
   ]
  },
  {
   "cell_type": "code",
   "execution_count": 196,
   "id": "a1eab9bf-63ef-4066-8ef3-513c9060100e",
   "metadata": {},
   "outputs": [],
   "source": [
    "import pandas as pd\n",
    "import json"
   ]
  },
  {
   "cell_type": "code",
   "execution_count": 197,
   "id": "02a8c25c-4d3d-48cf-9d08-7d0b59b45d41",
   "metadata": {},
   "outputs": [
    {
     "name": "stdout",
     "output_type": "stream",
     "text": [
      "Ibrayeva_PandasChallenge.csv    chessbuds_messages.json\n",
      "Ibrayeva_PandasChallenge.ipynb  ibrayeva_SystemsCheck.ipynb\n",
      "PandasInClass_Ibrayeva.ipynb    in class_week3.ipynb\n",
      "Spotify_Montero_data.json       subset_cces_example_data.csv\n",
      "cces_example_data.csv           tidyChallenge_Ibrayeva.ipynb\n"
     ]
    }
   ],
   "source": [
    "ls"
   ]
  },
  {
   "cell_type": "code",
   "execution_count": 198,
   "id": "b4c507a3-96cf-4e3d-b11e-f91fd8b090e7",
   "metadata": {},
   "outputs": [],
   "source": [
    "with open(\"chessbuds_messages.json\") as j:\n",
    "    chess = json.load(j)"
   ]
  },
  {
   "cell_type": "code",
   "execution_count": 200,
   "id": "6b2b31d7-70ee-46fc-b987-757c5de6063a",
   "metadata": {},
   "outputs": [
    {
     "data": {
      "text/plain": [
       "dict"
      ]
     },
     "execution_count": 200,
     "metadata": {},
     "output_type": "execute_result"
    }
   ],
   "source": [
    "type(chess)"
   ]
  },
  {
   "cell_type": "code",
   "execution_count": 201,
   "id": "80e59787-5893-4b5a-99e9-e3fde1690bfd",
   "metadata": {},
   "outputs": [
    {
     "data": {
      "text/plain": [
       "dict_keys(['participants', 'messages', 'title', 'is_still_participant', 'thread_type', 'thread_path', 'magic_words', 'joinable_mode'])"
      ]
     },
     "execution_count": 201,
     "metadata": {},
     "output_type": "execute_result"
    }
   ],
   "source": [
    "chess.keys()"
   ]
  },
  {
   "cell_type": "code",
   "execution_count": 202,
   "id": "6879c43f-5395-4eaa-b1a4-b18e9689039e",
   "metadata": {},
   "outputs": [
    {
     "data": {
      "text/plain": [
       "[{'sender_name': 'Joanna Rusch',\n",
       "  'timestamp_ms': 1666374933946,\n",
       "  'content': \"Maybe he just wants to ride the publicity for a bit longer, even if he doesn't get any money from the lawsuit. Like, I didn't know his name before this but I certainly do now.\",\n",
       "  'reactions': [{'reaction': 'ð\\x9f\\x91\\x8d', 'actor': 'Chad Larson'},\n",
       "   {'reaction': 'ð\\x9f\\x91\\x8d', 'actor': 'Chad Larson'}],\n",
       "  'type': 'Generic',\n",
       "  'is_unsent': False,\n",
       "  'is_taken_down': False,\n",
       "  'bumped_message_metadata': {'bumped_message': \"Maybe he just wants to ride the publicity for a bit longer, even if he doesn't get any money from the lawsuit. Like, I didn't know his name before this but I certainly do now.\",\n",
       "   'is_bumped': False}},\n",
       " {'sender_name': 'Chad Larson',\n",
       "  'timestamp_ms': 1666373448613,\n",
       "  'content': 'To be fair to Hans....no one wants to be associated with an \"anal bead\" theory.',\n",
       "  'reactions': [{'reaction': 'ð\\x9f\\x98\\x86', 'actor': 'Scott Pence'},\n",
       "   {'reaction': 'ð\\x9f\\x98\\x86', 'actor': 'Scott Pence'}],\n",
       "  'type': 'Generic',\n",
       "  'is_unsent': False,\n",
       "  'is_taken_down': False,\n",
       "  'bumped_message_metadata': {'bumped_message': 'To be fair to Hans....no one wants to be associated with an \"anal bead\" theory.',\n",
       "   'is_bumped': False}}]"
      ]
     },
     "execution_count": 202,
     "metadata": {},
     "output_type": "execute_result"
    }
   ],
   "source": [
    "chess['messages'][0:2]"
   ]
  },
  {
   "cell_type": "code",
   "execution_count": 203,
   "id": "b7497029-af82-4804-a5e3-60e28c157738",
   "metadata": {},
   "outputs": [
    {
     "data": {
      "text/plain": [
       "list"
      ]
     },
     "execution_count": 203,
     "metadata": {},
     "output_type": "execute_result"
    }
   ],
   "source": [
    "type(chess['messages'])"
   ]
  },
  {
   "cell_type": "code",
   "execution_count": 204,
   "id": "c75fb9a0-cec0-47e4-99fe-e3d0571c826b",
   "metadata": {},
   "outputs": [
    {
     "data": {
      "text/plain": [
       "[{'name': 'Scott Pence'},\n",
       " {'name': 'Chad Larson'},\n",
       " {'name': 'Joanna Rusch'},\n",
       " {'name': 'Angela Babbitt Pence'},\n",
       " {'name': 'David Silva'},\n",
       " {'name': 'Aaron Rusch'},\n",
       " {'name': 'Timothy Vanderpool'}]"
      ]
     },
     "execution_count": 204,
     "metadata": {},
     "output_type": "execute_result"
    }
   ],
   "source": [
    "chess['participants']"
   ]
  },
  {
   "cell_type": "code",
   "execution_count": 205,
   "id": "96f9e8d5-8c8b-46ed-82c8-6dd477c9ff11",
   "metadata": {},
   "outputs": [
    {
     "data": {
      "text/plain": [
       "223"
      ]
     },
     "execution_count": 205,
     "metadata": {},
     "output_type": "execute_result"
    }
   ],
   "source": [
    "len(chess['messages'])"
   ]
  },
  {
   "cell_type": "code",
   "execution_count": 206,
   "id": "934822e8-06ad-4b17-8213-2213f6c2bbe5",
   "metadata": {},
   "outputs": [
    {
     "data": {
      "text/plain": [
       "dict_keys(['sender_name', 'timestamp_ms', 'content', 'reactions', 'type', 'is_unsent', 'is_taken_down', 'bumped_message_metadata'])"
      ]
     },
     "execution_count": 206,
     "metadata": {},
     "output_type": "execute_result"
    }
   ],
   "source": [
    "chess['messages'][0].keys()"
   ]
  },
  {
   "cell_type": "code",
   "execution_count": 207,
   "id": "36329cc4-1912-47b7-b6a5-296529f246e2",
   "metadata": {},
   "outputs": [
    {
     "data": {
      "text/plain": [
       "'Joanna Rusch'"
      ]
     },
     "execution_count": 207,
     "metadata": {},
     "output_type": "execute_result"
    }
   ],
   "source": [
    "chess['messages'][0]['sender_name']"
   ]
  },
  {
   "cell_type": "code",
   "execution_count": 208,
   "id": "2a08a363-9209-4fa3-9e88-a0f1a5941e54",
   "metadata": {},
   "outputs": [],
   "source": [
    "df_chess = pd.DataFrame(chess['messages'])"
   ]
  },
  {
   "cell_type": "code",
   "execution_count": 209,
   "id": "59d75322-102c-4e8f-a22a-9b2a19ef3dc8",
   "metadata": {},
   "outputs": [
    {
     "data": {
      "text/html": [
       "<div>\n",
       "<style scoped>\n",
       "    .dataframe tbody tr th:only-of-type {\n",
       "        vertical-align: middle;\n",
       "    }\n",
       "\n",
       "    .dataframe tbody tr th {\n",
       "        vertical-align: top;\n",
       "    }\n",
       "\n",
       "    .dataframe thead th {\n",
       "        text-align: right;\n",
       "    }\n",
       "</style>\n",
       "<table border=\"1\" class=\"dataframe\">\n",
       "  <thead>\n",
       "    <tr style=\"text-align: right;\">\n",
       "      <th></th>\n",
       "      <th>sender_name</th>\n",
       "      <th>timestamp_ms</th>\n",
       "      <th>content</th>\n",
       "      <th>reactions</th>\n",
       "      <th>type</th>\n",
       "      <th>is_unsent</th>\n",
       "      <th>is_taken_down</th>\n",
       "      <th>bumped_message_metadata</th>\n",
       "      <th>share</th>\n",
       "      <th>photos</th>\n",
       "      <th>gifs</th>\n",
       "      <th>users</th>\n",
       "    </tr>\n",
       "  </thead>\n",
       "  <tbody>\n",
       "    <tr>\n",
       "      <th>0</th>\n",
       "      <td>Joanna Rusch</td>\n",
       "      <td>1666374933946</td>\n",
       "      <td>Maybe he just wants to ride the publicity for ...</td>\n",
       "      <td>[{'reaction': 'ð', 'actor': 'Chad Larson'},...</td>\n",
       "      <td>Generic</td>\n",
       "      <td>False</td>\n",
       "      <td>False</td>\n",
       "      <td>{'bumped_message': 'Maybe he just wants to rid...</td>\n",
       "      <td>NaN</td>\n",
       "      <td>NaN</td>\n",
       "      <td>NaN</td>\n",
       "      <td>NaN</td>\n",
       "    </tr>\n",
       "    <tr>\n",
       "      <th>1</th>\n",
       "      <td>Chad Larson</td>\n",
       "      <td>1666373448613</td>\n",
       "      <td>To be fair to Hans....no one wants to be assoc...</td>\n",
       "      <td>[{'reaction': 'ð', 'actor': 'Scott Pence'},...</td>\n",
       "      <td>Generic</td>\n",
       "      <td>False</td>\n",
       "      <td>False</td>\n",
       "      <td>{'bumped_message': 'To be fair to Hans....no o...</td>\n",
       "      <td>NaN</td>\n",
       "      <td>NaN</td>\n",
       "      <td>NaN</td>\n",
       "      <td>NaN</td>\n",
       "    </tr>\n",
       "    <tr>\n",
       "      <th>2</th>\n",
       "      <td>Chad Larson</td>\n",
       "      <td>1666373216381</td>\n",
       "      <td>He would have to prove he didn't cheat and tha...</td>\n",
       "      <td>[{'reaction': 'ð', 'actor': 'Scott Pence'},...</td>\n",
       "      <td>Generic</td>\n",
       "      <td>False</td>\n",
       "      <td>False</td>\n",
       "      <td>{'bumped_message': 'He would have to prove he ...</td>\n",
       "      <td>NaN</td>\n",
       "      <td>NaN</td>\n",
       "      <td>NaN</td>\n",
       "      <td>NaN</td>\n",
       "    </tr>\n",
       "    <tr>\n",
       "      <th>3</th>\n",
       "      <td>Scott Pence</td>\n",
       "      <td>1666373164883</td>\n",
       "      <td>Yeah, no way. You over shoot and hope to get a...</td>\n",
       "      <td>[{'reaction': 'ð', 'actor': 'Chad Larson'},...</td>\n",
       "      <td>Generic</td>\n",
       "      <td>False</td>\n",
       "      <td>False</td>\n",
       "      <td>{'bumped_message': 'Yeah, no way. You over sho...</td>\n",
       "      <td>NaN</td>\n",
       "      <td>NaN</td>\n",
       "      <td>NaN</td>\n",
       "      <td>NaN</td>\n",
       "    </tr>\n",
       "    <tr>\n",
       "      <th>4</th>\n",
       "      <td>Chad Larson</td>\n",
       "      <td>1666373111157</td>\n",
       "      <td>From what I see, I don't think he could win.  ...</td>\n",
       "      <td>NaN</td>\n",
       "      <td>Generic</td>\n",
       "      <td>False</td>\n",
       "      <td>False</td>\n",
       "      <td>{'bumped_message': 'From what I see, I don't t...</td>\n",
       "      <td>NaN</td>\n",
       "      <td>NaN</td>\n",
       "      <td>NaN</td>\n",
       "      <td>NaN</td>\n",
       "    </tr>\n",
       "  </tbody>\n",
       "</table>\n",
       "</div>"
      ],
      "text/plain": [
       "    sender_name   timestamp_ms  \\\n",
       "0  Joanna Rusch  1666374933946   \n",
       "1   Chad Larson  1666373448613   \n",
       "2   Chad Larson  1666373216381   \n",
       "3   Scott Pence  1666373164883   \n",
       "4   Chad Larson  1666373111157   \n",
       "\n",
       "                                             content  \\\n",
       "0  Maybe he just wants to ride the publicity for ...   \n",
       "1  To be fair to Hans....no one wants to be assoc...   \n",
       "2  He would have to prove he didn't cheat and tha...   \n",
       "3  Yeah, no way. You over shoot and hope to get a...   \n",
       "4  From what I see, I don't think he could win.  ...   \n",
       "\n",
       "                                           reactions     type  is_unsent  \\\n",
       "0  [{'reaction': 'ð', 'actor': 'Chad Larson'},...  Generic      False   \n",
       "1  [{'reaction': 'ð', 'actor': 'Scott Pence'},...  Generic      False   \n",
       "2  [{'reaction': 'ð', 'actor': 'Scott Pence'},...  Generic      False   \n",
       "3  [{'reaction': 'ð', 'actor': 'Chad Larson'},...  Generic      False   \n",
       "4                                                NaN  Generic      False   \n",
       "\n",
       "   is_taken_down                            bumped_message_metadata share  \\\n",
       "0          False  {'bumped_message': 'Maybe he just wants to rid...   NaN   \n",
       "1          False  {'bumped_message': 'To be fair to Hans....no o...   NaN   \n",
       "2          False  {'bumped_message': 'He would have to prove he ...   NaN   \n",
       "3          False  {'bumped_message': 'Yeah, no way. You over sho...   NaN   \n",
       "4          False  {'bumped_message': 'From what I see, I don't t...   NaN   \n",
       "\n",
       "  photos gifs users  \n",
       "0    NaN  NaN   NaN  \n",
       "1    NaN  NaN   NaN  \n",
       "2    NaN  NaN   NaN  \n",
       "3    NaN  NaN   NaN  \n",
       "4    NaN  NaN   NaN  "
      ]
     },
     "execution_count": 209,
     "metadata": {},
     "output_type": "execute_result"
    }
   ],
   "source": [
    "df_chess.head()"
   ]
  },
  {
   "cell_type": "code",
   "execution_count": 210,
   "id": "146088b8-7dd1-4249-861f-ab5512f12b15",
   "metadata": {},
   "outputs": [
    {
     "data": {
      "text/plain": [
       "{'bumped_message': \"From what I see, I don't think he could win.  But he is probably hoping for a good sized settlement\",\n",
       " 'is_bumped': False}"
      ]
     },
     "execution_count": 210,
     "metadata": {},
     "output_type": "execute_result"
    }
   ],
   "source": [
    "chess['messages'][4]['bumped_message_metadata']"
   ]
  },
  {
   "cell_type": "code",
   "execution_count": 211,
   "id": "03a03775-36e3-45e3-9e0d-39434b302b15",
   "metadata": {
    "scrolled": true
   },
   "outputs": [
    {
     "data": {
      "text/plain": [
       "False"
      ]
     },
     "execution_count": 211,
     "metadata": {},
     "output_type": "execute_result"
    }
   ],
   "source": [
    "chess['messages'][0]['bumped_message_metadata']['is_bumped']"
   ]
  },
  {
   "cell_type": "code",
   "execution_count": 212,
   "id": "3df324e7-a18a-4062-92db-028fed353388",
   "metadata": {},
   "outputs": [],
   "source": [
    "bumped_m = [x['is_bumped'] if isinstance(x, dict) else None for x in df_chess['bumped_message_metadata']]"
   ]
  },
  {
   "cell_type": "code",
   "execution_count": 213,
   "id": "5ecfb3f2-361d-4956-86d4-9acc542cc55f",
   "metadata": {},
   "outputs": [],
   "source": [
    "df_chess['bumped_message_metadata']=bumped_m"
   ]
  },
  {
   "cell_type": "code",
   "execution_count": 214,
   "id": "37be83f9-9c1b-4676-9b5c-5f7d96b85203",
   "metadata": {},
   "outputs": [
    {
     "data": {
      "text/html": [
       "<div>\n",
       "<style scoped>\n",
       "    .dataframe tbody tr th:only-of-type {\n",
       "        vertical-align: middle;\n",
       "    }\n",
       "\n",
       "    .dataframe tbody tr th {\n",
       "        vertical-align: top;\n",
       "    }\n",
       "\n",
       "    .dataframe thead th {\n",
       "        text-align: right;\n",
       "    }\n",
       "</style>\n",
       "<table border=\"1\" class=\"dataframe\">\n",
       "  <thead>\n",
       "    <tr style=\"text-align: right;\">\n",
       "      <th></th>\n",
       "      <th>sender_name</th>\n",
       "      <th>timestamp_ms</th>\n",
       "      <th>content</th>\n",
       "      <th>reactions</th>\n",
       "      <th>type</th>\n",
       "      <th>is_unsent</th>\n",
       "      <th>is_taken_down</th>\n",
       "      <th>bumped_message_metadata</th>\n",
       "      <th>share</th>\n",
       "      <th>photos</th>\n",
       "      <th>gifs</th>\n",
       "      <th>users</th>\n",
       "    </tr>\n",
       "  </thead>\n",
       "  <tbody>\n",
       "    <tr>\n",
       "      <th>0</th>\n",
       "      <td>Joanna Rusch</td>\n",
       "      <td>1666374933946</td>\n",
       "      <td>Maybe he just wants to ride the publicity for ...</td>\n",
       "      <td>[{'reaction': 'ð', 'actor': 'Chad Larson'},...</td>\n",
       "      <td>Generic</td>\n",
       "      <td>False</td>\n",
       "      <td>False</td>\n",
       "      <td>False</td>\n",
       "      <td>NaN</td>\n",
       "      <td>NaN</td>\n",
       "      <td>NaN</td>\n",
       "      <td>NaN</td>\n",
       "    </tr>\n",
       "    <tr>\n",
       "      <th>1</th>\n",
       "      <td>Chad Larson</td>\n",
       "      <td>1666373448613</td>\n",
       "      <td>To be fair to Hans....no one wants to be assoc...</td>\n",
       "      <td>[{'reaction': 'ð', 'actor': 'Scott Pence'},...</td>\n",
       "      <td>Generic</td>\n",
       "      <td>False</td>\n",
       "      <td>False</td>\n",
       "      <td>False</td>\n",
       "      <td>NaN</td>\n",
       "      <td>NaN</td>\n",
       "      <td>NaN</td>\n",
       "      <td>NaN</td>\n",
       "    </tr>\n",
       "    <tr>\n",
       "      <th>2</th>\n",
       "      <td>Chad Larson</td>\n",
       "      <td>1666373216381</td>\n",
       "      <td>He would have to prove he didn't cheat and tha...</td>\n",
       "      <td>[{'reaction': 'ð', 'actor': 'Scott Pence'},...</td>\n",
       "      <td>Generic</td>\n",
       "      <td>False</td>\n",
       "      <td>False</td>\n",
       "      <td>False</td>\n",
       "      <td>NaN</td>\n",
       "      <td>NaN</td>\n",
       "      <td>NaN</td>\n",
       "      <td>NaN</td>\n",
       "    </tr>\n",
       "    <tr>\n",
       "      <th>3</th>\n",
       "      <td>Scott Pence</td>\n",
       "      <td>1666373164883</td>\n",
       "      <td>Yeah, no way. You over shoot and hope to get a...</td>\n",
       "      <td>[{'reaction': 'ð', 'actor': 'Chad Larson'},...</td>\n",
       "      <td>Generic</td>\n",
       "      <td>False</td>\n",
       "      <td>False</td>\n",
       "      <td>False</td>\n",
       "      <td>NaN</td>\n",
       "      <td>NaN</td>\n",
       "      <td>NaN</td>\n",
       "      <td>NaN</td>\n",
       "    </tr>\n",
       "    <tr>\n",
       "      <th>4</th>\n",
       "      <td>Chad Larson</td>\n",
       "      <td>1666373111157</td>\n",
       "      <td>From what I see, I don't think he could win.  ...</td>\n",
       "      <td>NaN</td>\n",
       "      <td>Generic</td>\n",
       "      <td>False</td>\n",
       "      <td>False</td>\n",
       "      <td>False</td>\n",
       "      <td>NaN</td>\n",
       "      <td>NaN</td>\n",
       "      <td>NaN</td>\n",
       "      <td>NaN</td>\n",
       "    </tr>\n",
       "  </tbody>\n",
       "</table>\n",
       "</div>"
      ],
      "text/plain": [
       "    sender_name   timestamp_ms  \\\n",
       "0  Joanna Rusch  1666374933946   \n",
       "1   Chad Larson  1666373448613   \n",
       "2   Chad Larson  1666373216381   \n",
       "3   Scott Pence  1666373164883   \n",
       "4   Chad Larson  1666373111157   \n",
       "\n",
       "                                             content  \\\n",
       "0  Maybe he just wants to ride the publicity for ...   \n",
       "1  To be fair to Hans....no one wants to be assoc...   \n",
       "2  He would have to prove he didn't cheat and tha...   \n",
       "3  Yeah, no way. You over shoot and hope to get a...   \n",
       "4  From what I see, I don't think he could win.  ...   \n",
       "\n",
       "                                           reactions     type  is_unsent  \\\n",
       "0  [{'reaction': 'ð', 'actor': 'Chad Larson'},...  Generic      False   \n",
       "1  [{'reaction': 'ð', 'actor': 'Scott Pence'},...  Generic      False   \n",
       "2  [{'reaction': 'ð', 'actor': 'Scott Pence'},...  Generic      False   \n",
       "3  [{'reaction': 'ð', 'actor': 'Chad Larson'},...  Generic      False   \n",
       "4                                                NaN  Generic      False   \n",
       "\n",
       "   is_taken_down  bumped_message_metadata share photos gifs users  \n",
       "0          False                    False   NaN    NaN  NaN   NaN  \n",
       "1          False                    False   NaN    NaN  NaN   NaN  \n",
       "2          False                    False   NaN    NaN  NaN   NaN  \n",
       "3          False                    False   NaN    NaN  NaN   NaN  \n",
       "4          False                    False   NaN    NaN  NaN   NaN  "
      ]
     },
     "execution_count": 214,
     "metadata": {},
     "output_type": "execute_result"
    }
   ],
   "source": [
    "df_chess.head()"
   ]
  },
  {
   "cell_type": "code",
   "execution_count": 215,
   "id": "678cf3b7-ea81-4d5f-b849-df8949f48311",
   "metadata": {},
   "outputs": [
    {
     "data": {
      "text/plain": [
       "[{'reaction': 'ð\\x9f\\x91\\x8d', 'actor': 'Chad Larson'},\n",
       " {'reaction': 'ð\\x9f\\x91\\x8d', 'actor': 'Chad Larson'}]"
      ]
     },
     "execution_count": 215,
     "metadata": {},
     "output_type": "execute_result"
    }
   ],
   "source": [
    "df_chess['reactions'].iloc[0]"
   ]
  },
  {
   "cell_type": "code",
   "execution_count": 216,
   "id": "a7b317f3-1458-47df-99eb-50939ba78314",
   "metadata": {},
   "outputs": [],
   "source": [
    "num_reactions = [len(x) if isinstance(x, list) else 0 for x in df_chess['reactions']]"
   ]
  },
  {
   "cell_type": "code",
   "execution_count": 217,
   "id": "67cd8b37-6647-4956-9ce3-fe571e8dc5c3",
   "metadata": {},
   "outputs": [
    {
     "data": {
      "text/plain": [
       "[2, 2, 2, 2, 0]"
      ]
     },
     "execution_count": 217,
     "metadata": {},
     "output_type": "execute_result"
    }
   ],
   "source": [
    "num_reactions[0:5]"
   ]
  },
  {
   "cell_type": "code",
   "execution_count": 218,
   "id": "37711133-7443-478d-968b-0b93a8d92ca8",
   "metadata": {},
   "outputs": [],
   "source": [
    "df_chess['reactions']=num_reactions"
   ]
  },
  {
   "cell_type": "code",
   "execution_count": 219,
   "id": "8837b7b2-c327-40f0-b020-2c4f2e0413aa",
   "metadata": {},
   "outputs": [
    {
     "data": {
      "text/html": [
       "<div>\n",
       "<style scoped>\n",
       "    .dataframe tbody tr th:only-of-type {\n",
       "        vertical-align: middle;\n",
       "    }\n",
       "\n",
       "    .dataframe tbody tr th {\n",
       "        vertical-align: top;\n",
       "    }\n",
       "\n",
       "    .dataframe thead th {\n",
       "        text-align: right;\n",
       "    }\n",
       "</style>\n",
       "<table border=\"1\" class=\"dataframe\">\n",
       "  <thead>\n",
       "    <tr style=\"text-align: right;\">\n",
       "      <th></th>\n",
       "      <th>sender_name</th>\n",
       "      <th>timestamp_ms</th>\n",
       "      <th>content</th>\n",
       "      <th>reactions</th>\n",
       "      <th>type</th>\n",
       "      <th>is_unsent</th>\n",
       "      <th>is_taken_down</th>\n",
       "      <th>bumped_message_metadata</th>\n",
       "      <th>share</th>\n",
       "      <th>photos</th>\n",
       "      <th>gifs</th>\n",
       "      <th>users</th>\n",
       "    </tr>\n",
       "  </thead>\n",
       "  <tbody>\n",
       "    <tr>\n",
       "      <th>0</th>\n",
       "      <td>Joanna Rusch</td>\n",
       "      <td>1666374933946</td>\n",
       "      <td>Maybe he just wants to ride the publicity for ...</td>\n",
       "      <td>2</td>\n",
       "      <td>Generic</td>\n",
       "      <td>False</td>\n",
       "      <td>False</td>\n",
       "      <td>False</td>\n",
       "      <td>NaN</td>\n",
       "      <td>NaN</td>\n",
       "      <td>NaN</td>\n",
       "      <td>NaN</td>\n",
       "    </tr>\n",
       "    <tr>\n",
       "      <th>1</th>\n",
       "      <td>Chad Larson</td>\n",
       "      <td>1666373448613</td>\n",
       "      <td>To be fair to Hans....no one wants to be assoc...</td>\n",
       "      <td>2</td>\n",
       "      <td>Generic</td>\n",
       "      <td>False</td>\n",
       "      <td>False</td>\n",
       "      <td>False</td>\n",
       "      <td>NaN</td>\n",
       "      <td>NaN</td>\n",
       "      <td>NaN</td>\n",
       "      <td>NaN</td>\n",
       "    </tr>\n",
       "    <tr>\n",
       "      <th>2</th>\n",
       "      <td>Chad Larson</td>\n",
       "      <td>1666373216381</td>\n",
       "      <td>He would have to prove he didn't cheat and tha...</td>\n",
       "      <td>2</td>\n",
       "      <td>Generic</td>\n",
       "      <td>False</td>\n",
       "      <td>False</td>\n",
       "      <td>False</td>\n",
       "      <td>NaN</td>\n",
       "      <td>NaN</td>\n",
       "      <td>NaN</td>\n",
       "      <td>NaN</td>\n",
       "    </tr>\n",
       "    <tr>\n",
       "      <th>3</th>\n",
       "      <td>Scott Pence</td>\n",
       "      <td>1666373164883</td>\n",
       "      <td>Yeah, no way. You over shoot and hope to get a...</td>\n",
       "      <td>2</td>\n",
       "      <td>Generic</td>\n",
       "      <td>False</td>\n",
       "      <td>False</td>\n",
       "      <td>False</td>\n",
       "      <td>NaN</td>\n",
       "      <td>NaN</td>\n",
       "      <td>NaN</td>\n",
       "      <td>NaN</td>\n",
       "    </tr>\n",
       "    <tr>\n",
       "      <th>4</th>\n",
       "      <td>Chad Larson</td>\n",
       "      <td>1666373111157</td>\n",
       "      <td>From what I see, I don't think he could win.  ...</td>\n",
       "      <td>0</td>\n",
       "      <td>Generic</td>\n",
       "      <td>False</td>\n",
       "      <td>False</td>\n",
       "      <td>False</td>\n",
       "      <td>NaN</td>\n",
       "      <td>NaN</td>\n",
       "      <td>NaN</td>\n",
       "      <td>NaN</td>\n",
       "    </tr>\n",
       "  </tbody>\n",
       "</table>\n",
       "</div>"
      ],
      "text/plain": [
       "    sender_name   timestamp_ms  \\\n",
       "0  Joanna Rusch  1666374933946   \n",
       "1   Chad Larson  1666373448613   \n",
       "2   Chad Larson  1666373216381   \n",
       "3   Scott Pence  1666373164883   \n",
       "4   Chad Larson  1666373111157   \n",
       "\n",
       "                                             content  reactions     type  \\\n",
       "0  Maybe he just wants to ride the publicity for ...          2  Generic   \n",
       "1  To be fair to Hans....no one wants to be assoc...          2  Generic   \n",
       "2  He would have to prove he didn't cheat and tha...          2  Generic   \n",
       "3  Yeah, no way. You over shoot and hope to get a...          2  Generic   \n",
       "4  From what I see, I don't think he could win.  ...          0  Generic   \n",
       "\n",
       "   is_unsent  is_taken_down  bumped_message_metadata share photos gifs users  \n",
       "0      False          False                    False   NaN    NaN  NaN   NaN  \n",
       "1      False          False                    False   NaN    NaN  NaN   NaN  \n",
       "2      False          False                    False   NaN    NaN  NaN   NaN  \n",
       "3      False          False                    False   NaN    NaN  NaN   NaN  \n",
       "4      False          False                    False   NaN    NaN  NaN   NaN  "
      ]
     },
     "execution_count": 219,
     "metadata": {},
     "output_type": "execute_result"
    }
   ],
   "source": [
    "df_chess.head()"
   ]
  },
  {
   "cell_type": "code",
   "execution_count": 220,
   "id": "8e186813-7516-4755-a4b8-b36af9075817",
   "metadata": {},
   "outputs": [],
   "source": [
    "df_chess.rename(columns={'timestamp_ms': 'timestamp'}, inplace=True)\n",
    "df_chess.rename(columns={'bumped_message_metadata': 'bumped_message'}, inplace=True)"
   ]
  },
  {
   "cell_type": "code",
   "execution_count": 221,
   "id": "4f283fac-3643-446f-af25-ded11711b74e",
   "metadata": {},
   "outputs": [
    {
     "data": {
      "text/html": [
       "<div>\n",
       "<style scoped>\n",
       "    .dataframe tbody tr th:only-of-type {\n",
       "        vertical-align: middle;\n",
       "    }\n",
       "\n",
       "    .dataframe tbody tr th {\n",
       "        vertical-align: top;\n",
       "    }\n",
       "\n",
       "    .dataframe thead th {\n",
       "        text-align: right;\n",
       "    }\n",
       "</style>\n",
       "<table border=\"1\" class=\"dataframe\">\n",
       "  <thead>\n",
       "    <tr style=\"text-align: right;\">\n",
       "      <th></th>\n",
       "      <th>sender_name</th>\n",
       "      <th>timestamp</th>\n",
       "      <th>content</th>\n",
       "      <th>reactions</th>\n",
       "      <th>type</th>\n",
       "      <th>is_unsent</th>\n",
       "      <th>is_taken_down</th>\n",
       "      <th>bumped_message</th>\n",
       "      <th>share</th>\n",
       "      <th>photos</th>\n",
       "      <th>gifs</th>\n",
       "      <th>users</th>\n",
       "    </tr>\n",
       "  </thead>\n",
       "  <tbody>\n",
       "    <tr>\n",
       "      <th>0</th>\n",
       "      <td>Joanna Rusch</td>\n",
       "      <td>1666374933946</td>\n",
       "      <td>Maybe he just wants to ride the publicity for ...</td>\n",
       "      <td>2</td>\n",
       "      <td>Generic</td>\n",
       "      <td>False</td>\n",
       "      <td>False</td>\n",
       "      <td>False</td>\n",
       "      <td>NaN</td>\n",
       "      <td>NaN</td>\n",
       "      <td>NaN</td>\n",
       "      <td>NaN</td>\n",
       "    </tr>\n",
       "    <tr>\n",
       "      <th>1</th>\n",
       "      <td>Chad Larson</td>\n",
       "      <td>1666373448613</td>\n",
       "      <td>To be fair to Hans....no one wants to be assoc...</td>\n",
       "      <td>2</td>\n",
       "      <td>Generic</td>\n",
       "      <td>False</td>\n",
       "      <td>False</td>\n",
       "      <td>False</td>\n",
       "      <td>NaN</td>\n",
       "      <td>NaN</td>\n",
       "      <td>NaN</td>\n",
       "      <td>NaN</td>\n",
       "    </tr>\n",
       "    <tr>\n",
       "      <th>2</th>\n",
       "      <td>Chad Larson</td>\n",
       "      <td>1666373216381</td>\n",
       "      <td>He would have to prove he didn't cheat and tha...</td>\n",
       "      <td>2</td>\n",
       "      <td>Generic</td>\n",
       "      <td>False</td>\n",
       "      <td>False</td>\n",
       "      <td>False</td>\n",
       "      <td>NaN</td>\n",
       "      <td>NaN</td>\n",
       "      <td>NaN</td>\n",
       "      <td>NaN</td>\n",
       "    </tr>\n",
       "    <tr>\n",
       "      <th>3</th>\n",
       "      <td>Scott Pence</td>\n",
       "      <td>1666373164883</td>\n",
       "      <td>Yeah, no way. You over shoot and hope to get a...</td>\n",
       "      <td>2</td>\n",
       "      <td>Generic</td>\n",
       "      <td>False</td>\n",
       "      <td>False</td>\n",
       "      <td>False</td>\n",
       "      <td>NaN</td>\n",
       "      <td>NaN</td>\n",
       "      <td>NaN</td>\n",
       "      <td>NaN</td>\n",
       "    </tr>\n",
       "    <tr>\n",
       "      <th>4</th>\n",
       "      <td>Chad Larson</td>\n",
       "      <td>1666373111157</td>\n",
       "      <td>From what I see, I don't think he could win.  ...</td>\n",
       "      <td>0</td>\n",
       "      <td>Generic</td>\n",
       "      <td>False</td>\n",
       "      <td>False</td>\n",
       "      <td>False</td>\n",
       "      <td>NaN</td>\n",
       "      <td>NaN</td>\n",
       "      <td>NaN</td>\n",
       "      <td>NaN</td>\n",
       "    </tr>\n",
       "  </tbody>\n",
       "</table>\n",
       "</div>"
      ],
      "text/plain": [
       "    sender_name      timestamp  \\\n",
       "0  Joanna Rusch  1666374933946   \n",
       "1   Chad Larson  1666373448613   \n",
       "2   Chad Larson  1666373216381   \n",
       "3   Scott Pence  1666373164883   \n",
       "4   Chad Larson  1666373111157   \n",
       "\n",
       "                                             content  reactions     type  \\\n",
       "0  Maybe he just wants to ride the publicity for ...          2  Generic   \n",
       "1  To be fair to Hans....no one wants to be assoc...          2  Generic   \n",
       "2  He would have to prove he didn't cheat and tha...          2  Generic   \n",
       "3  Yeah, no way. You over shoot and hope to get a...          2  Generic   \n",
       "4  From what I see, I don't think he could win.  ...          0  Generic   \n",
       "\n",
       "   is_unsent  is_taken_down  bumped_message share photos gifs users  \n",
       "0      False          False           False   NaN    NaN  NaN   NaN  \n",
       "1      False          False           False   NaN    NaN  NaN   NaN  \n",
       "2      False          False           False   NaN    NaN  NaN   NaN  \n",
       "3      False          False           False   NaN    NaN  NaN   NaN  \n",
       "4      False          False           False   NaN    NaN  NaN   NaN  "
      ]
     },
     "execution_count": 221,
     "metadata": {},
     "output_type": "execute_result"
    }
   ],
   "source": [
    "df_chess.head()"
   ]
  },
  {
   "cell_type": "code",
   "execution_count": 222,
   "id": "05f69eea-06c2-4f48-81fd-86f8d0736613",
   "metadata": {},
   "outputs": [],
   "source": [
    "df_chess.reset_index(drop=True, inplace=True)"
   ]
  },
  {
   "cell_type": "code",
   "execution_count": 223,
   "id": "1d7510e2-0fe6-43b1-8305-5f88be7f6cc9",
   "metadata": {},
   "outputs": [
    {
     "data": {
      "text/html": [
       "<div>\n",
       "<style scoped>\n",
       "    .dataframe tbody tr th:only-of-type {\n",
       "        vertical-align: middle;\n",
       "    }\n",
       "\n",
       "    .dataframe tbody tr th {\n",
       "        vertical-align: top;\n",
       "    }\n",
       "\n",
       "    .dataframe thead th {\n",
       "        text-align: right;\n",
       "    }\n",
       "</style>\n",
       "<table border=\"1\" class=\"dataframe\">\n",
       "  <thead>\n",
       "    <tr style=\"text-align: right;\">\n",
       "      <th></th>\n",
       "      <th>sender_name</th>\n",
       "      <th>timestamp</th>\n",
       "      <th>content</th>\n",
       "      <th>reactions</th>\n",
       "      <th>type</th>\n",
       "      <th>is_unsent</th>\n",
       "      <th>is_taken_down</th>\n",
       "      <th>bumped_message</th>\n",
       "      <th>share</th>\n",
       "      <th>photos</th>\n",
       "      <th>gifs</th>\n",
       "      <th>users</th>\n",
       "    </tr>\n",
       "  </thead>\n",
       "  <tbody>\n",
       "    <tr>\n",
       "      <th>222</th>\n",
       "      <td>Chad Larson</td>\n",
       "      <td>1615854650355</td>\n",
       "      <td>Chad named the group Chess Buds.</td>\n",
       "      <td>0</td>\n",
       "      <td>Generic</td>\n",
       "      <td>False</td>\n",
       "      <td>False</td>\n",
       "      <td>False</td>\n",
       "      <td>NaN</td>\n",
       "      <td>NaN</td>\n",
       "      <td>NaN</td>\n",
       "      <td>NaN</td>\n",
       "    </tr>\n",
       "    <tr>\n",
       "      <th>221</th>\n",
       "      <td>Chad Larson</td>\n",
       "      <td>1615854680797</td>\n",
       "      <td>Scott studied my games, did a specific opening...</td>\n",
       "      <td>0</td>\n",
       "      <td>Generic</td>\n",
       "      <td>False</td>\n",
       "      <td>False</td>\n",
       "      <td>False</td>\n",
       "      <td>NaN</td>\n",
       "      <td>NaN</td>\n",
       "      <td>NaN</td>\n",
       "      <td>NaN</td>\n",
       "    </tr>\n",
       "    <tr>\n",
       "      <th>220</th>\n",
       "      <td>Chad Larson</td>\n",
       "      <td>1615854725212</td>\n",
       "      <td>Chad Larson added Angela Babbitt Pence to the ...</td>\n",
       "      <td>0</td>\n",
       "      <td>Subscribe</td>\n",
       "      <td>False</td>\n",
       "      <td>False</td>\n",
       "      <td>False</td>\n",
       "      <td>NaN</td>\n",
       "      <td>NaN</td>\n",
       "      <td>NaN</td>\n",
       "      <td>[{'name': 'Angela Babbitt Pence'}]</td>\n",
       "    </tr>\n",
       "    <tr>\n",
       "      <th>219</th>\n",
       "      <td>Scott Pence</td>\n",
       "      <td>1615855620614</td>\n",
       "      <td>NaN</td>\n",
       "      <td>1</td>\n",
       "      <td>Generic</td>\n",
       "      <td>False</td>\n",
       "      <td>False</td>\n",
       "      <td>False</td>\n",
       "      <td>NaN</td>\n",
       "      <td>NaN</td>\n",
       "      <td>[{'uri': 'messages/inbox/chessbuds_npjakt9u1g/...</td>\n",
       "      <td>NaN</td>\n",
       "    </tr>\n",
       "    <tr>\n",
       "      <th>218</th>\n",
       "      <td>Scott Pence</td>\n",
       "      <td>1615855643693</td>\n",
       "      <td>Thank you, thank you.</td>\n",
       "      <td>0</td>\n",
       "      <td>Generic</td>\n",
       "      <td>False</td>\n",
       "      <td>False</td>\n",
       "      <td>False</td>\n",
       "      <td>NaN</td>\n",
       "      <td>NaN</td>\n",
       "      <td>NaN</td>\n",
       "      <td>NaN</td>\n",
       "    </tr>\n",
       "  </tbody>\n",
       "</table>\n",
       "</div>"
      ],
      "text/plain": [
       "     sender_name      timestamp  \\\n",
       "222  Chad Larson  1615854650355   \n",
       "221  Chad Larson  1615854680797   \n",
       "220  Chad Larson  1615854725212   \n",
       "219  Scott Pence  1615855620614   \n",
       "218  Scott Pence  1615855643693   \n",
       "\n",
       "                                               content  reactions       type  \\\n",
       "222                   Chad named the group Chess Buds.          0    Generic   \n",
       "221  Scott studied my games, did a specific opening...          0    Generic   \n",
       "220  Chad Larson added Angela Babbitt Pence to the ...          0  Subscribe   \n",
       "219                                                NaN          1    Generic   \n",
       "218                              Thank you, thank you.          0    Generic   \n",
       "\n",
       "     is_unsent  is_taken_down  bumped_message share photos  \\\n",
       "222      False          False           False   NaN    NaN   \n",
       "221      False          False           False   NaN    NaN   \n",
       "220      False          False           False   NaN    NaN   \n",
       "219      False          False           False   NaN    NaN   \n",
       "218      False          False           False   NaN    NaN   \n",
       "\n",
       "                                                  gifs  \\\n",
       "222                                                NaN   \n",
       "221                                                NaN   \n",
       "220                                                NaN   \n",
       "219  [{'uri': 'messages/inbox/chessbuds_npjakt9u1g/...   \n",
       "218                                                NaN   \n",
       "\n",
       "                                  users  \n",
       "222                                 NaN  \n",
       "221                                 NaN  \n",
       "220  [{'name': 'Angela Babbitt Pence'}]  \n",
       "219                                 NaN  \n",
       "218                                 NaN  "
      ]
     },
     "execution_count": 223,
     "metadata": {},
     "output_type": "execute_result"
    }
   ],
   "source": [
    "df_chess.sort_values('timestamp').head()"
   ]
  },
  {
   "cell_type": "markdown",
   "id": "d85cab83-f070-4600-93b5-79cb13276fa0",
   "metadata": {},
   "source": [
    " # Describe what the row-level (observation) represents and what each column represents?\n",
    "* The observations in the dataframe represent the details about the messages in the groupchat. For example, each column showcases some details about the sent message, such as: sender name, the timestamp, the content of the message and reactions (bumped messages, gifs, pictures, etc)\n",
    "1. Sender_name: The name of the person who sent the message;\n",
    "2. Timestamp: When was the message sent;\n",
    "3. Content: The content or text of the message;\n",
    "4. Reactions: The number of reactions received by the message;\n",
    "5. Type: The type of message, such as 'Generic';\n",
    "6. Is_unsent: whether the message was unsent or not;\n",
    "7. Is_taken_down: whether the message was taken down;\n",
    "8. Bumped_message: whether the message was bumped;\n",
    "9. Share, Photos, GIFs, Users: Additional details about the message content and its reactions.\n",
    " # Describe how the final DataFrame meets tidy data principles?\n",
    "* So, in the process of tidying my df i did the following commands:\n",
    "    1. Modifyed the reaction column by removing the content and only leaving the number of reaction per message;\n",
    "    2. Divided the Bumped message column and kept only the relevant part (whether the message was bumped or not);\n",
    "    3. I renamaed the timestamped and bumped message columns;\n",
    "    4. i sorted the dataframe by the timestamp column.\n",
    "* Combining all of the mentioned above commands, i believe this dataframe meets the tidy data principles for numerious reasons. In this dataframe each variable (sender_name, timestamp, content, reactions, type, etc.) is represented by a separate column. Column headers contain values representing the variables related to observed events, following the principle of having values in cells and not variable names across columns. Missing data is represented using NaN values for columns where some information is not available.\n",
    " # What are (if any) alternative, tidy formats that would also be acceptable for this data?\n",
    "* In my opinion, it would be very very useful to format the 'timestamp' column as a datetime object. This would allows to manipulate and analyze the data and information much easier. Moreover, I would create a separate Dataframe for reactions with columns like message_id, reaction_type, and sender.\n",
    "# Describe a potential visualization that would let someone explore and, ultimately, better understand this data\n",
    "* Since this df is about the group interactions, i would suggest using a line chart to  explore and understand the patterns within the dataset. X-axis would be the time and Y-axis would be the number of messages. This way, we can follow the messaging activity throughout the time. I would also add some color to the chart that would either represent thr sender or the number of reactions. This visualization cpuld provide insights into the overall message activity over time and identify trends. "
   ]
  }
 ],
 "metadata": {
  "kernelspec": {
   "display_name": "Python 3 (ipykernel)",
   "language": "python",
   "name": "python3"
  },
  "language_info": {
   "codemirror_mode": {
    "name": "ipython",
    "version": 3
   },
   "file_extension": ".py",
   "mimetype": "text/x-python",
   "name": "python",
   "nbconvert_exporter": "python",
   "pygments_lexer": "ipython3",
   "version": "3.11.7"
  }
 },
 "nbformat": 4,
 "nbformat_minor": 5
}
