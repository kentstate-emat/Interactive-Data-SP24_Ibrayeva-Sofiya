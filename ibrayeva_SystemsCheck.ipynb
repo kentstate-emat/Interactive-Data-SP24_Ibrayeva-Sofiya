{
 "cells": [
  {
   "cell_type": "markdown",
   "id": "0a1ce0e6-4749-4580-91bf-2a79a80dfa47",
   "metadata": {},
   "source": [
    "># Interactive data\n",
    "\n",
    ">## Assignment 1\n",
    "\n",
    ">*Sofiya Ibrayeva*\n",
    "\n",
    ">**01.23.2024**"
   ]
  },
  {
   "cell_type": "markdown",
   "id": "ca9702e6-a4a7-4ba4-9fbf-f6094ca27d87",
   "metadata": {},
   "source": [
    "[Github Link](https://github.com/sofiyaibrayeva)"
   ]
  },
  {
   "cell_type": "markdown",
   "id": "bd05b12c-c0f3-419b-8f58-9cc2387ef020",
   "metadata": {},
   "source": [
    "![Image](data:image/png;base64,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)"
   ]
  },
  {
   "cell_type": "markdown",
   "id": "3b196b29-05c3-41fc-b244-5f46f9720b85",
   "metadata": {},
   "source": [
    "***\n",
    "what I hope to get out of this class:\n",
    "* Deepen my knowledge in python and R;\n",
    "* experience working with diverse datasets;\n",
    "* explore data visualization tools and techniques.\n"
   ]
  },
  {
   "cell_type": "code",
   "execution_count": 6,
   "id": "c6e37893-111a-4549-badf-bafde68f74c8",
   "metadata": {},
   "outputs": [],
   "source": [
    "x=7"
   ]
  },
  {
   "cell_type": "code",
   "execution_count": 7,
   "id": "5405137c-98c8-47a6-98b8-cea76048dc0b",
   "metadata": {},
   "outputs": [
    {
     "data": {
      "text/plain": [
       "7"
      ]
     },
     "execution_count": 7,
     "metadata": {},
     "output_type": "execute_result"
    }
   ],
   "source": [
    "x"
   ]
  },
  {
   "cell_type": "code",
   "execution_count": 8,
   "id": "d810d4c4-1e38-4b8a-a543-43d78e274134",
   "metadata": {},
   "outputs": [
    {
     "name": "stdout",
     "output_type": "stream",
     "text": [
      "7\n"
     ]
    }
   ],
   "source": [
    "print(x)"
   ]
  },
  {
   "cell_type": "code",
   "execution_count": 9,
   "id": "68c4e068-0202-4d71-b8cb-5ee086acb576",
   "metadata": {},
   "outputs": [
    {
     "name": "stdout",
     "output_type": "stream",
     "text": [
      "1\n",
      "2\n",
      "3\n",
      "4\n",
      "5\n",
      "6\n",
      "7\n"
     ]
    }
   ],
   "source": [
    "for i in [1,2,3,4,5,6]:\n",
    "    print(i)\n",
    "\n",
    "for i in [x]:\n",
    "    print(i)"
   ]
  },
  {
   "cell_type": "code",
   "execution_count": 12,
   "id": "60738b80-19f7-408f-a2db-7341b3903d06",
   "metadata": {},
   "outputs": [],
   "source": [
    "def say_hello(x):\n",
    "    print(\"hello \" + str(x))"
   ]
  },
  {
   "cell_type": "code",
   "execution_count": 13,
   "id": "f9ab7817-3133-4aca-89b1-f7194a5e625c",
   "metadata": {},
   "outputs": [
    {
     "name": "stdout",
     "output_type": "stream",
     "text": [
      "hello Sofiya\n"
     ]
    }
   ],
   "source": [
    "say_hello(\"Sofiya\")"
   ]
  },
  {
   "cell_type": "code",
   "execution_count": 14,
   "id": "c5364f51-5c90-415c-a1c8-a9d9c49b0392",
   "metadata": {},
   "outputs": [],
   "source": [
    "def return_hello(x):\n",
    "    y=\"hello \" + x\n",
    "    return y"
   ]
  },
  {
   "cell_type": "code",
   "execution_count": 15,
   "id": "24b77c73-205c-4c94-9b3f-2f7a99144a50",
   "metadata": {},
   "outputs": [],
   "source": [
    "greetings = return_hello(\"Sofiya\")"
   ]
  },
  {
   "cell_type": "code",
   "execution_count": 16,
   "id": "35008055-ec27-4c40-b438-653aab1db3ed",
   "metadata": {},
   "outputs": [
    {
     "data": {
      "text/plain": [
       "'hello Sofiya'"
      ]
     },
     "execution_count": 16,
     "metadata": {},
     "output_type": "execute_result"
    }
   ],
   "source": [
    "greetings"
   ]
  },
  {
   "cell_type": "markdown",
   "id": "e9b2c502-da8a-46f9-b33b-bba8355bf614",
   "metadata": {},
   "source": [
    "__ChatGPT response__\n",
    "- I followed all of the provided below instructions (updated anaconda and changed my python version to 3.11 as well as created a new environment) and i switched my web browser from safari to chrome."
   ]
  },
  {
   "cell_type": "markdown",
   "id": "f7898471-45f0-4218-af0f-463072b37324",
   "metadata": {},
   "source": [
    "\n",
    "1. why is my jupyter notebook not working and not running the code.  i did the following steps: installed anaconda and ran the following commands in Terminal on Mac: conda create --name python=3.12, conda activate, pip install notebook, jupyter notebook\n",
    "\n",
    "- ChatGPT\n",
    "It seems like there might be an issue with the command you used to create the conda environment. The correct syntax for creating a conda environment with a specific Python version is:\n",
    "\n",
    "bash\n",
    "Copy code\n",
    "conda create --name your_env_name python=3.12\n",
    "Make sure to replace \"your_env_name\" with the desired name for your environment.\n",
    "\n",
    "Here are the correct steps:\n",
    "\n",
    "Create a conda environment with the correct Python version:\n",
    "bash\n",
    "Copy code\n",
    "conda create --name your_env_name python=3.12\n",
    "Activate the conda environment:\n",
    "bash\n",
    "Copy code\n",
    "conda activate your_env_name\n",
    "Install Jupyter Notebook:\n",
    "bash\n",
    "Copy code\n",
    "pip install notebook\n",
    "Launch Jupyter Notebook:\n",
    "bash\n",
    "Copy code\n",
    "jupyter notebook\n",
    "Ensure that you are running these commands in the activated conda environment. If you encounter any errors or issues during these steps, please provide more details about the error messages so that I can assist you further.\n",
    "\n",
    "2. User\n",
    "i did all the above steps, what could be the other reason\n",
    "- ChatGPT\n",
    "If you've followed the steps correctly and are still experiencing issues with your Jupyter Notebook, here are a few additional troubleshooting steps you can try:\n",
    "\n",
    "Check for Errors during Installation:\n",
    "Ensure that there were no errors or warnings during the installation of Anaconda, creating the conda environment, or installing Jupyter Notebook. Look for any error messages in the Terminal.\n",
    "\n",
    "Update Conda and Pip:\n",
    "Update both conda and pip to the latest versions to ensure that you have the latest package management tools.\n",
    "\n",
    "bash\n",
    "Copy code\n",
    "conda update conda\n",
    "conda update --all\n",
    "pip install --upgrade pip\n",
    "Verify Python Version:\n",
    "Make sure that the Python version in your Jupyter Notebook environment matches the one you specified during the environment creation.\n",
    "\n",
    "Check Jupyter Installation:\n",
    "Confirm that Jupyter is installed in your conda environment. You can check this by running:\n",
    "\n",
    "bash\n",
    "Copy code\n",
    "conda list\n",
    "Look for \"notebook\" in the list to ensure it's installed.\n",
    "\n",
    "Firewall/Antivirus Issues:\n",
    "Sometimes, firewall or antivirus software may interfere with Jupyter Notebook. Temporarily disable any firewall or antivirus software and check if the issue persists.\n",
    "\n",
    "Browser Compatibility:\n",
    "Ensure that you are using a compatible web browser. Jupyter Notebook is typically compatible with popular browsers like Chrome, Firefox, and Safari.\n",
    "\n",
    "Check for Conflicting Packages:\n",
    "There might be conflicts between packages in your environment. You can create a clean environment and install only Jupyter Notebook to check if the issue persists.\n",
    "\n",
    "Check Jupyter Logs:\n",
    "Examine the Jupyter logs for any error messages. You can find the Jupyter logs by running:\n",
    "\n",
    "bash\n",
    "Copy code\n",
    "jupyter --paths\n",
    "Look for the directory containing the Jupyter configuration file and check the logs.\n",
    "\n",
    "If the issue persists after trying these steps, please provide any error messages or specific details about the problem you're encountering so that I can offer more targeted assistance.\n",
    "\n",
    "3. User ( i got this error in Terminal when i was updating anaconda so i cope pasted it to chatgpt)\n",
    "Specifications:\n",
    "\n",
    "conda=23.11.0 -> python[version='>=3.10,<3.11.0a0|>=3.11,<3.12.0a0|>=3.8,<3.9.0a0|>=3.9,<3.10.0a0']\n",
    "\n",
    "Your python: python=3.12\n",
    "\n",
    "If python is on the left-most side of the chain, that's the version you've asked for.\n",
    "When python appears to the right, that indicates that the thing on the left is somehow\n",
    "not available for the python version you are constrained to. Note that conda will not\n",
    "change your python version to a different minor version unless you explicitly specify\n",
    "that.\n",
    "what does this error mean\n",
    "- ChatGPT\n",
    "The error message you provided suggests that there is a conflict between the Python version specified in your conda environment and the version of conda itself.\n",
    "\n",
    "Here's what the error is indicating:\n",
    "\n",
    "You have conda version 23.11.0.\n",
    "Your conda environment is set up with Python version constraints: python[version='>=3.10,<3.11.0a0|>=3.11,<3.12.0a0|>=3.8,<3.9.0a0|>=3.9,<3.10.0a0'].\n",
    "However, you are trying to use Python version 3.12 in your environment.\n",
    "The error message is pointing out that Python 3.12 is not within the specified version constraints for your conda environment. Conda is informing you that it won't automatically downgrade or change your Python version to match the constraints unless you explicitly specify it.\n",
    "\n",
    "To resolve this issue, you have a few options:\n",
    "\n",
    "Change Python Version in the Environment:\n",
    "You can create a new conda environment with a Python version within the specified constraints. For example:\n",
    "\n",
    "bash\n",
    "Copy code\n",
    "conda create --name your_env_name python=3.11\n",
    "Replace \"your_env_name\" with the desired name for your environment.\n",
    "\n",
    "Update conda:\n",
    "If your project allows, you can update conda to a version that supports Python 3.12. You can do this with the following command:\n",
    "\n",
    "bash\n",
    "Copy code\n",
    "conda update conda\n",
    "After updating conda, you can attempt to create your environment with Python 3.12 again.\n",
    "\n",
    "Choose the option that aligns with your project requirements. If you have specific constraints or dependencies that require a particular Python version, make sure to set up your environment accordingly."
   ]
  },
  {
   "cell_type": "code",
   "execution_count": null,
   "id": "ebad7de5-547b-49bf-af65-cb64243f1232",
   "metadata": {},
   "outputs": [],
   "source": []
  }
 ],
 "metadata": {
  "kernelspec": {
   "display_name": "Python 3 (ipykernel)",
   "language": "python",
   "name": "python3"
  },
  "language_info": {
   "codemirror_mode": {
    "name": "ipython",
    "version": 3
   },
   "file_extension": ".py",
   "mimetype": "text/x-python",
   "name": "python",
   "nbconvert_exporter": "python",
   "pygments_lexer": "ipython3",
   "version": "3.11.7"
  }
 },
 "nbformat": 4,
 "nbformat_minor": 5
}
